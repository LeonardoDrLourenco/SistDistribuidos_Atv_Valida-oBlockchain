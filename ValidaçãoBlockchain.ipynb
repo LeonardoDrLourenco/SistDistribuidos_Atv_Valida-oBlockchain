{
  "nbformat": 4,
  "nbformat_minor": 0,
  "metadata": {
    "colab": {
      "provenance": [],
      "include_colab_link": true
    },
    "kernelspec": {
      "name": "python3",
      "display_name": "Python 3"
    },
    "language_info": {
      "name": "python"
    }
  },
  "cells": [
    {
      "cell_type": "markdown",
      "metadata": {
        "id": "view-in-github",
        "colab_type": "text"
      },
      "source": [
        "<a href=\"https://colab.research.google.com/github/LeonardoDrLourenco/SistDistribuidos_Atv_Valida-oBlockchain/blob/main/Valida%C3%A7%C3%A3oBlockchain.ipynb\" target=\"_parent\"><img src=\"https://colab.research.google.com/assets/colab-badge.svg\" alt=\"Open In Colab\"/></a>"
      ]
    },
    {
      "cell_type": "markdown",
      "source": [
        "# Validação de bloco na BlockChain"
      ],
      "metadata": {
        "id": "aTm6UtrQ7e58"
      }
    },
    {
      "cell_type": "code",
      "source": [
        "import threading\n",
        "import hashlib\n",
        "import time\n",
        "import copy\n",
        "\n",
        "class Bloco:\n",
        "    def __init__(self, dados):\n",
        "        self.dados = dados\n",
        "        self.hash = self.gerar_hash()\n",
        "\n",
        "    def gerar_hash(self):\n",
        "        conteudo = str(self.dados).encode()\n",
        "        return hashlib.sha256(conteudo).hexdigest()\n",
        "\n",
        "class Blockchain:\n",
        "    def __init__(self):\n",
        "        self.bloco_original = None\n",
        "        self.bloco_atual = None\n",
        "\n",
        "    def criar_bloco(self, dados):\n",
        "        bloco = Bloco(dados)\n",
        "        self.bloco_original = copy.deepcopy(bloco)\n",
        "        self.bloco_atual = bloco\n",
        "\n",
        "    def modificar_bloco(self, novos_dados):\n",
        "        self.bloco_atual.dados = novos_dados\n",
        "        self.bloco_atual.hash = self.bloco_atual.gerar_hash()\n",
        "\n",
        "def verificar_hash(blockchain, intervalo):\n",
        "    while True:\n",
        "        time.sleep(intervalo)\n",
        "        if blockchain.bloco_atual.hash != blockchain.bloco_original.hash:\n",
        "            print(\"\\nBloco alterado! Comparação de estado:\")\n",
        "            print(f\"Hash original: {blockchain.bloco_original.hash}\")\n",
        "            print(f\"Novo hash: {blockchain.bloco_atual.hash}\")\n",
        "            print(f\"Dados antigos: {blockchain.bloco_original.dados}\")\n",
        "            print(f\"Novos dados: {blockchain.bloco_atual.dados}\")\n",
        "            break\n",
        "        else:\n",
        "            print(\"Bloco válido. Verificando novamente...\")\n",
        "\n",
        "def alterar_bloco_periodicamente(blockchain, intervalo):\n",
        "    time.sleep(intervalo)\n",
        "    novos_dados = blockchain.bloco_atual.dados.copy()\n",
        "    novos_dados['valor'] += 20\n",
        "    blockchain.modificar_bloco(novos_dados)\n",
        "    print(\"Bloco foi modificado!\")\n",
        "\n",
        "if __name__ == \"__main__\":\n",
        "    texto_usuario = input(\"Digite uma transação para ser transformada em hash: \")\n",
        "    valor_inicial = int(input(\"Digite um valor inicial: \"))\n",
        "\n",
        "    dados_iniciais = {'transacao': texto_usuario, 'valor': valor_inicial}\n",
        "    blockchain = Blockchain()\n",
        "    blockchain.criar_bloco(dados_iniciais)\n",
        "\n",
        "    print(f\"Hash original do bloco: {blockchain.bloco_atual.hash}\\n\")\n",
        "\n",
        "    t_verificar = threading.Thread(target=verificar_hash, args=(blockchain, 2))\n",
        "    t_modificar = threading.Thread(target=alterar_bloco_periodicamente, args=(blockchain, 5))\n",
        "\n",
        "    t_verificar.start()\n",
        "    t_modificar.start()\n",
        "\n",
        "    t_verificar.join()\n",
        "    t_modificar.join()\n",
        "\n",
        "    print(\"Processo concluído.\")\n"
      ],
      "metadata": {
        "colab": {
          "base_uri": "https://localhost:8080/"
        },
        "id": "bm4Jw8um7fr9",
        "outputId": "66c37b17-b918-4ccc-ffcb-8d2124c79177"
      },
      "execution_count": null,
      "outputs": [
        {
          "output_type": "stream",
          "name": "stdout",
          "text": [
            "Digite uma transação para ser transformada em hash: jose compra de joao\n",
            "Digite um valor inicial: 2000\n",
            "Hash original do bloco: e81c3666aa86c778a4d91c04b289a075b028eb29763d897e1e1b62520b7bb224\n",
            "\n",
            "Bloco válido. Verificando novamente...\n",
            "Bloco válido. Verificando novamente...\n",
            "Bloco foi modificado!\n",
            "\n",
            "Bloco alterado! Comparação de estado:\n",
            "Hash original: e81c3666aa86c778a4d91c04b289a075b028eb29763d897e1e1b62520b7bb224\n",
            "Novo hash: 4701750b49c14f5dfb3f6508dcff9e3a7a6782bc9c0f655c473b2f980de27d69\n",
            "Dados antigos: {'transacao': 'jose compra de joao', 'valor': 2000}\n",
            "Novos dados: {'transacao': 'jose compra de joao', 'valor': 2020}\n",
            "Processo concluído.\n"
          ]
        }
      ]
    }
  ]
}